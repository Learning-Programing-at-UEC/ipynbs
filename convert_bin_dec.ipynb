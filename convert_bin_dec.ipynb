{
 "cells": [
  {
   "cell_type": "markdown",
   "metadata": {},
   "source": [
    "# 2:10進数と2進数とを互いに変換してみよう\n",
    "\n",
    "- 実際に、普段使う10進数の数字をコンピュータが扱う2進数に変換してみよう\n",
    "- コンピュータが扱う2進数を10進数に変換してみよう"
   ]
  },
  {
   "cell_type": "markdown",
   "metadata": {},
   "source": [
    "## 2-1:10進数をそのまま出力させてみよう"
   ]
  },
  {
   "cell_type": "code",
   "execution_count": 1,
   "metadata": {},
   "outputs": [
    {
     "data": {
      "text/plain": [
       "13"
      ]
     },
     "execution_count": 1,
     "metadata": {},
     "output_type": "execute_result"
    }
   ],
   "source": [
    "13"
   ]
  },
  {
   "cell_type": "markdown",
   "metadata": {},
   "source": [
    "- セルに10進数を入力すれば、そのまま10進数として出力される"
   ]
  },
  {
   "cell_type": "markdown",
   "metadata": {},
   "source": [
    "## 2-2:10進数を2進数に変換してみよう"
   ]
  },
  {
   "cell_type": "code",
   "execution_count": 2,
   "metadata": {},
   "outputs": [
    {
     "data": {
      "text/plain": [
       "'0b1101'"
      ]
     },
     "execution_count": 2,
     "metadata": {},
     "output_type": "execute_result"
    }
   ],
   "source": [
    "bin(13)"
   ]
  },
  {
   "cell_type": "markdown",
   "metadata": {},
   "source": [
    "- bin()の括弧の中に、数字を入れると2進数として出力されます\n",
    "  - binはbinary(英: 2進数)の略\n",
    "  - 10進数はdecimalと英語でいいます\n",
    "\n",
    "\n",
    "- 出力は、10進数と区別をつけるために<font color=\"Red\">0b</font>(ゼロとb)が頭に付加されます\n",
    "  - このときのbもbinaryの頭文字から来ています"
   ]
  },
  {
   "cell_type": "markdown",
   "metadata": {
    "collapsed": true
   },
   "source": [
    "## 2-3:2進数を10進数に変換してみよう"
   ]
  },
  {
   "cell_type": "code",
   "execution_count": 3,
   "metadata": {},
   "outputs": [
    {
     "data": {
      "text/plain": [
       "13"
      ]
     },
     "execution_count": 3,
     "metadata": {},
     "output_type": "execute_result"
    }
   ],
   "source": [
    "0b1101"
   ]
  },
  {
   "cell_type": "markdown",
   "metadata": {},
   "source": [
    "- セルに0bを付加して2進数を入力すると、自動的に10進数で変換されてから出力されます"
   ]
  },
  {
   "cell_type": "markdown",
   "metadata": {},
   "source": [
    "## 2-4: 実習\n",
    "\n",
    "- 自分で以下に自由に数値を入れて変換してみよう\n",
    "\n",
    "- 基本操作おさらい\n",
    "  - セルをクリックで入力\n",
    "  - shift+enterで実行\n",
    "  - 終了するときは左上`File`から`close and halt`を選択する\n",
    "\n",
    "\n",
    "- この他に操作方法がわからない・困ったことがあったら担当の先生になんでも聞いてね"
   ]
  },
  {
   "cell_type": "code",
   "execution_count": null,
   "metadata": {
    "collapsed": true
   },
   "outputs": [],
   "source": []
  }
 ],
 "metadata": {
  "kernelspec": {
   "display_name": "Python 3",
   "language": "python",
   "name": "python3"
  },
  "language_info": {
   "codemirror_mode": {
    "name": "ipython",
    "version": 3
   },
   "file_extension": ".py",
   "mimetype": "text/x-python",
   "name": "python",
   "nbconvert_exporter": "python",
   "pygments_lexer": "ipython3",
   "version": "3.6.1"
  }
 },
 "nbformat": 4,
 "nbformat_minor": 2
}
