{
 "cells": [
  {
   "cell_type": "markdown",
   "metadata": {},
   "source": [
    "# 1: Hello, world!と出力してみよう\n",
    "\n",
    "- あらゆるプログラミング言語は、最初に`Hello, world!`と出力させることから始まるのが国際的な慣習です。\n",
    "  - 本当です。\n",
    "  - みなさんも、この「世界一有名なプログラム」を作ってみよう。"
   ]
  },
  {
   "cell_type": "markdown",
   "metadata": {},
   "source": [
    "## 1-1: お手本"
   ]
  },
  {
   "cell_type": "code",
   "execution_count": 1,
   "metadata": {},
   "outputs": [
    {
     "name": "stdout",
     "output_type": "stream",
     "text": [
      "Hello, world!\n"
     ]
    }
   ],
   "source": [
    "print(\"Hello, world!\")"
   ]
  },
  {
   "cell_type": "markdown",
   "metadata": {},
   "source": [
    "- print()の丸括弧の中に、更に\"(ダブルクォーテーションと言います)2つで区切った中に\n",
    "```\n",
    "Hello, World!\n",
    "```\n",
    "と入力します\n",
    "- セルを選択した状態でshift+enterで実行します\n",
    "- すると、直下にコンピュータの応答が表示されます\n",
    "\n",
    "  \n",
    "- このように、`print()`の丸括弧の中に\"\"で区切り、その中に文字列を入れると、そのまま出力されます"
   ]
  },
  {
   "cell_type": "markdown",
   "metadata": {},
   "source": [
    "## 1-2: やってみよう\n",
    "\n",
    "- この下にあるセルをクリックして、お手本の通りに入力して、実行してみよう"
   ]
  },
  {
   "cell_type": "code",
   "execution_count": null,
   "metadata": {
    "collapsed": true
   },
   "outputs": [],
   "source": []
  },
  {
   "cell_type": "markdown",
   "metadata": {},
   "source": [
    "できましたか？\n",
    "\n",
    "これで、みなさんもプログラマーの仲間入りです！"
   ]
  },
  {
   "cell_type": "markdown",
   "metadata": {},
   "source": [
    "## 注意: 終了する時\n",
    "- 左上にあるFile->Close and haltを選択\n",
    "\n",
    "![close and halt](http://i.imgur.com/yC7t97Q.jpg)\n",
    "\n",
    "- ブラウザから警告ウィンドウが出ますが、問題ないので許可する旨のボタンを押します"
   ]
  }
 ],
 "metadata": {
  "kernelspec": {
   "display_name": "Python 3",
   "language": "python",
   "name": "python3"
  },
  "language_info": {
   "codemirror_mode": {
    "name": "ipython",
    "version": 3
   },
   "file_extension": ".py",
   "mimetype": "text/x-python",
   "name": "python",
   "nbconvert_exporter": "python",
   "pygments_lexer": "ipython3",
   "version": "3.6.1"
  }
 },
 "nbformat": 4,
 "nbformat_minor": 2
}
